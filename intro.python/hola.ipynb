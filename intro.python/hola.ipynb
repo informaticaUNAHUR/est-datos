{
  "nbformat": 4,
  "nbformat_minor": 0,
  "metadata": {
    "colab": {
      "name": "Untitled0.ipynb",
      "provenance": [],
      "include_colab_link": true
    },
    "kernelspec": {
      "name": "python3",
      "display_name": "Python 3"
    }
  },
  "cells": [
    {
      "cell_type": "markdown",
      "metadata": {
        "id": "view-in-github",
        "colab_type": "text"
      },
      "source": [
        "<a href=\"https://colab.research.google.com/github/informaticaUNAHUR/est-datos/blob/master/intro.python/hola.ipynb\" target=\"_parent\"><img src=\"https://colab.research.google.com/assets/colab-badge.svg\" alt=\"Open In Colab\"/></a>"
      ]
    },
    {
      "cell_type": "markdown",
      "metadata": {
        "id": "psy6GmadMoJ1",
        "colab_type": "text"
      },
      "source": [
        "**Introducción a Python** \n",
        "Este ejemplo muestra la operación simple"
      ]
    },
    {
      "cell_type": "code",
      "metadata": {
        "id": "BkC2_jAZM1rH",
        "colab_type": "code",
        "colab": {}
      },
      "source": [
        "print(\"Hola mundo\")"
      ],
      "execution_count": 0,
      "outputs": []
    },
    {
      "cell_type": "markdown",
      "metadata": {
        "id": "4JW94beFM63M",
        "colab_type": "text"
      },
      "source": [
        "Ahora en el siguiente bloque, completa el código para imprimir un mensaje que diga tu nombre...."
      ]
    },
    {
      "cell_type": "code",
      "metadata": {
        "id": "eKNrJOSANDXL",
        "colab_type": "code",
        "colab": {}
      },
      "source": [
        "print(...)"
      ],
      "execution_count": 0,
      "outputs": []
    }
  ]
}